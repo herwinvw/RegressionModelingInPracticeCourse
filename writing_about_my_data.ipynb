{
 "cells": [
  {
   "cell_type": "markdown",
   "metadata": {},
   "source": [
    "# Assignment 1: About The Bike Sharing Dataset\n"
   ]
  },
  {
   "cell_type": "markdown",
   "metadata": {},
   "source": [
    "## Step1: Sample description\n",
    "\n",
    "1. *Study population*: People renting bikes from Capital Bikeshare system, Washington D.C., USA in 2011 and 2012\n",
    "2. *Level of analysis studied*: The data provides information on the number of bikes rent and several other factors that might influence bike rental, aggregated on an hourly basis.\n",
    "3. *Number of observations*: 17379\n",
    "4. *My analytic sample*: all data"
   ]
  },
  {
   "cell_type": "markdown",
   "metadata": {},
   "source": [
    "## Step 2: Procedures used to collect the data\n",
    "The core data set is obtained from the two-year historical log corresponding to years 2011 and 2012 from Capital Bikeshare system, Washington D.C., USA which is publicly available in http://capitalbikeshare.com/system-data. This data was aggregated on an hourly basis. The corresponding weather and seasonal information, extracted from http://www.freemeteo.com was then added to it.\n",
    "\n",
    "The purpose of the dataset was anomaly and event detection (see  Fanaee-T, Hadi, and Gama, Joao, \"Event labeling combining ensemble detectors and background knowledge\", Progress in Artificial Intelligence (2013): pp. 1-15, Springer Berlin Heidelberg, doi:10.1007/s13748-013-0040-3.). That is: to see when the data is non-typical and then to infer that some event or anomaly occured (for example, they find that 'weird' values for bike rental occur during Hurricane Sandy).\n"
   ]
  },
  {
   "cell_type": "markdown",
   "metadata": {},
   "source": [
    "## Step 3: Variables\n",
    "### Response variables:\n",
    "\n",
    " * *casual*: then number of bikes rented by casual users\n",
    " * *registered*: the number of bikes rented by registered users\n",
    " * *cnt*: the total number of bikes rented (=casual+registered)\n",
    " \n",
    "### Explanatory variables\n",
    " * *season*: this is actually quarter (1 to 4) not really season\n",
    " * *yr*: year (0: 2011, 1:2012)\n",
    " * *mnth* : month ( 1 to 12)\n",
    " * *hr* : hour (0 to 23)\n",
    " * *holiday* : whether day is holiday or not (1: holiday, 0: no holiday)\n",
    " * *weekday* : day of the week (0 to 6, 0 is Sunday)\n",
    " * *workingday* : if day is neither weekend nor holiday is 1, otherwise is 0.\n",
    " * *weathersit* : \n",
    "     * 1: Clear, Few clouds, Partly cloudy, Partly cloudy\n",
    "     * 2: Mist + Cloudy, Mist + Broken clouds, Mist + Few clouds, Mist\n",
    "     * 3: Light Snow, Light Rain + Thunderstorm + Scattered clouds, Light Rain + Scattered clouds\n",
    "     * 4: Heavy Rain + Ice Pallets + Thunderstorm + Mist, Snow + Fog\n",
    " * *temp* : Normalized temperature (0..1) in Celsius. The values are divided to 41 (max)\n",
    " * *atemp*: Normalized feeling temperature (0..1) in Celsius. The values are divided to 50 (max)\n",
    " * *hum*: Normalized humidity (0..1). The values are divided to 100 (max)\n",
    " * *windspeed*: Normalized wind speed (0..1). The values are divided to 67 (max)"
   ]
  },
  {
   "cell_type": "markdown",
   "metadata": {},
   "source": [
    "## Managing exploratory and response variables\n",
    "I'm interested in predicting the number of rented bikes given the explanatory variables, that is: figuring out which of the variables predict the number of rented bikes best."
   ]
  }
 ],
 "metadata": {
  "kernelspec": {
   "display_name": "Python 3",
   "language": "python",
   "name": "python3"
  },
  "language_info": {
   "codemirror_mode": {
    "name": "ipython",
    "version": 3
   },
   "file_extension": ".py",
   "mimetype": "text/x-python",
   "name": "python",
   "nbconvert_exporter": "python",
   "pygments_lexer": "ipython3",
   "version": "3.5.1"
  }
 },
 "nbformat": 4,
 "nbformat_minor": 0
}
